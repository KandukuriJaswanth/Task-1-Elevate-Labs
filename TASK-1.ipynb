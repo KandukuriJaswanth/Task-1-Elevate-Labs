{
  "nbformat": 4,
  "nbformat_minor": 0,
  "metadata": {
    "colab": {
      "provenance": []
    },
    "kernelspec": {
      "name": "python3",
      "display_name": "Python 3"
    },
    "language_info": {
      "name": "python"
    }
  },
  "cells": [
    {
      "cell_type": "code",
      "execution_count": 1,
      "metadata": {
        "id": "wTuthsnKjuBi"
      },
      "outputs": [],
      "source": [
        "import numpy as np\n",
        "import pandas as pd"
      ]
    },
    {
      "cell_type": "code",
      "source": [
        "from google.colab import drive\n",
        "drive.mount('/content/drive')"
      ],
      "metadata": {
        "colab": {
          "base_uri": "https://localhost:8080/"
        },
        "id": "CaSOdZylj-tn",
        "outputId": "d336e4b3-f1d4-4b3d-e471-9c7d7bb1a3aa"
      },
      "execution_count": 3,
      "outputs": [
        {
          "output_type": "stream",
          "name": "stdout",
          "text": [
            "Mounted at /content/drive\n"
          ]
        }
      ]
    },
    {
      "cell_type": "markdown",
      "source": [
        "#  **Extended Summary of Data Cleaning Project**\n",
        "# **Project Title:**\n",
        "Customer Personality Analysis - Data Cleaning and Preprocessing Using Python (Pandas)\n",
        "\n",
        "# **Dataset Overview:**\n",
        "Source File: Customer_Personality_Analysis_90k.csv\n",
        "Rows: ~90,000 entries\n",
        "\n",
        "Context: The dataset contains customer demographics, spending behavior, campaign responses, and lifestyle indicators. This data is typically used for segmentation, targeted marketing, or churn analysis.\n",
        "\n",
        "# Tools & Technologies Used:\n",
        "# Language: Python\n",
        "#Library: Pandas\n",
        "#Output Formats: CSV (cleaned data), Excel (data quality report)\n",
        "# Platform: Google Colab (via Google Drive)\n",
        "\n",
        "# **Step-by-Step Actions Performed:**\n",
        "# 1. Column Standardization\n",
        "Stripped spaces, converted headers to lowercase with underscores (str.strip().str.lower().replace(\" \", \"_\")).\n",
        "\n",
        "# 2. Duplicate Removal\n",
        "Checked for duplicates with .duplicated().sum()\n",
        "Removed them using .drop_duplicates()\n",
        "\n",
        "# 3. Missing Values Handling\n",
        "Identified missing values and calculated both count and percentage.\n",
        "Filled missing numeric fields using median to preserve data distribution.\n",
        "Created a full missing value summary and saved it to Excel.\n",
        "\n",
        "# 4. Text Normalization\n",
        "Standardized categorical data (e.g., gender, marital status, education) using .str.strip().str.lower()\n",
        "\n",
        "# 5. Data Type Fixing\n",
        "Converted age to int, income to float, ensuring proper numerical operations and aggregation.\n",
        "\n",
        "# 6. Outlier Treatment\n",
        "Detected and treated outliers in all numeric columns using the IQR (Interquartile Range) method.\n",
        "Clipped values below Q1 - 1.5IQR or above Q3 + 1.5IQR to reduce the impact of extreme values.\n",
        "\n",
        "# 7. Data Summary Reports\n",
        "Generated .describe() statistics for all numeric fields.\n",
        "\n",
        "# **Created Data_Cleaning_Report.xlsx with:**\n",
        "# Sample data preview\n",
        "# Missing value report\n",
        "# Numeric summary (mean, std, min, max)\n",
        "# Outlier count per column\n",
        "\n",
        "# 8. Exporting Cleaned Data\n",
        "Saved final cleaned data as Cleaned_Customer_Data.csv\n",
        "\n"
      ],
      "metadata": {
        "id": "pxvi0VOexKFa"
      }
    },
    {
      "cell_type": "code",
      "source": [
        "# 1. Load dataset\n",
        "df = pd.read_csv('/content/drive/MyDrive/ELEVATE LABS/Customer_Personality_Analysis_90k.csv')\n",
        "df.columns = df.columns.str.strip().str.lower().str.replace(\" \", \"_\")\n",
        "\n",
        "# 2. Check and drop duplicates\n",
        "duplicates = df.duplicated().sum()\n",
        "df.drop_duplicates(inplace=True)\n",
        "\n",
        "# 3. Show missing values as count and %\n",
        "missing_counts = df.isnull().sum()\n",
        "missing_percent = (missing_counts / len(df)) * 100\n",
        "missing_summary = pd.DataFrame({'MissingCount': missing_counts, 'MissingPercent': missing_percent})\n",
        "\n",
        "# 4. Fill missing numeric columns with median\n",
        "df.fillna(df.median(numeric_only=True), inplace=True)\n",
        "\n",
        "# 5. Standardize text values\n",
        "df = df.apply(lambda x: x.str.strip().str.lower() if x.dtype == 'object' else x)\n",
        "\n",
        "# 6. Fix data types\n",
        "df['age'] = df['age'].astype(int)\n",
        "df['income'] = df['income'].astype(float)\n",
        "\n",
        "# 7. Outlier treatment using IQR for all numeric columns\n",
        "numeric_cols = df.select_dtypes(include=['int64', 'float64']).columns\n",
        "outlier_summary = {}\n",
        "\n",
        "for col in numeric_cols:\n",
        "    Q1 = df[col].quantile(0.25)\n",
        "    Q3 = df[col].quantile(0.75)\n",
        "    IQR = Q3 - Q1\n",
        "    lower = Q1 - 1.5 * IQR\n",
        "    upper = Q3 + 1.5 * IQR\n",
        "    outlier_count = ((df[col] < lower) | (df[col] > upper)).sum()\n",
        "    outlier_summary[col] = outlier_count\n",
        "    df[col] = df[col].clip(lower=lower, upper=upper)\n",
        "\n",
        "# 8. Create numerical summary\n",
        "summary_stats = df.describe().T\n",
        "\n",
        "# 9. Save everything to Excel report\n",
        "with pd.ExcelWriter(\"Data_Cleaning_Report.xlsx\") as writer:\n",
        "    df.head(10).to_excel(writer, sheet_name=\"Sample Data\", index=False)\n",
        "    missing_summary.to_excel(writer, sheet_name=\"Missing Summary\")\n",
        "    summary_stats.to_excel(writer, sheet_name=\"Numeric Summary\")\n",
        "    pd.DataFrame.from_dict(outlier_summary, orient='index', columns=['OutlierCount'])\\\n",
        "        .to_excel(writer, sheet_name=\"Outlier Summary\")\n",
        "\n",
        "# 10. Save cleaned CSV\n",
        "df.to_csv(\"Cleaned_Customer_Data.csv\", index=False)\n",
        "\n",
        "# 11. Output to console\n",
        "print(\"✅ Cleaned dataset saved as 'Cleaned_Customer_Data.csv'\")\n",
        "print(\"📊 Data summary saved as 'Data_Cleaning_Report.xlsx'\")\n",
        "print(f\"🧹 Duplicates Removed: {duplicates}\")\n",
        "print(\"\\n🔍 Missing Values Summary:\\n\", missing_summary)\n",
        "print(\"\\n📈 Summary Statistics:\\n\", summary_stats)"
      ],
      "metadata": {
        "colab": {
          "base_uri": "https://localhost:8080/"
        },
        "id": "srK8O2zgrc-O",
        "outputId": "9f33bfea-d329-4bd1-d075-fd105604ed3e"
      },
      "execution_count": 14,
      "outputs": [
        {
          "output_type": "stream",
          "name": "stdout",
          "text": [
            "✅ Cleaned dataset saved as 'Cleaned_Customer_Data.csv'\n",
            "📊 Data summary saved as 'Data_Cleaning_Report.xlsx'\n",
            "🧹 Duplicates Removed: 0\n",
            "\n",
            "🔍 Missing Values Summary:\n",
            "                      MissingCount  MissingPercent\n",
            "customerid                      0             0.0\n",
            "age                             0             0.0\n",
            "gender                          0             0.0\n",
            "education                       0             0.0\n",
            "marital_status                  0             0.0\n",
            "income                          0             0.0\n",
            "kidhome                         0             0.0\n",
            "teenhome                        0             0.0\n",
            "recency                         0             0.0\n",
            "mntwines                        0             0.0\n",
            "mntfruits                       0             0.0\n",
            "mntmeatproducts                 0             0.0\n",
            "mntfishproducts                 0             0.0\n",
            "mntsweetproducts                0             0.0\n",
            "mntgoldprods                    0             0.0\n",
            "numdealspurchases               0             0.0\n",
            "numwebpurchases                 0             0.0\n",
            "numcatalogpurchases             0             0.0\n",
            "numstorepurchases               0             0.0\n",
            "numwebvisitsmonth               0             0.0\n",
            "acceptedcmp1                    0             0.0\n",
            "acceptedcmp2                    0             0.0\n",
            "acceptedcmp3                    0             0.0\n",
            "acceptedcmp4                    0             0.0\n",
            "acceptedcmp5                    0             0.0\n",
            "response                        0             0.0\n",
            "\n",
            "📈 Summary Statistics:\n",
            "                        count           mean           std      min       25%  \\\n",
            "customerid           90000.0   45000.500000  25980.906451      1.0  22500.75   \n",
            "age                  90000.0      46.048000     16.402673     18.0     32.00   \n",
            "income               90000.0  105108.000811  54753.215986  10000.0  57826.00   \n",
            "kidhome              90000.0       1.001800      0.817030      0.0      0.00   \n",
            "teenhome             90000.0       1.004722      0.816957      0.0      0.00   \n",
            "recency              90000.0      49.484522     28.834957      0.0     25.00   \n",
            "mntwines             90000.0     501.128344    288.827395      0.0    251.00   \n",
            "mntfruits            90000.0      99.459956     57.648069      0.0     50.00   \n",
            "mntmeatproducts      90000.0     598.901400    346.948448      0.0    298.00   \n",
            "mntfishproducts      90000.0     299.859656    173.496590      0.0    149.00   \n",
            "mntsweetproducts     90000.0     199.787133    115.372985      0.0    100.00   \n",
            "mntgoldprods         90000.0     249.020967    144.381561      0.0    123.00   \n",
            "numdealspurchases    90000.0       4.490644      2.877480      0.0      2.00   \n",
            "numwebpurchases      90000.0       7.007367      4.315407      0.0      3.00   \n",
            "numcatalogpurchases  90000.0       4.490133      2.874852      0.0      2.00   \n",
            "numstorepurchases    90000.0       9.517044      5.758272      0.0      5.00   \n",
            "numwebvisitsmonth    90000.0       9.483111      5.765705      0.0      4.00   \n",
            "acceptedcmp1         90000.0       0.502789      0.499995      0.0      0.00   \n",
            "acceptedcmp2         90000.0       0.498944      0.500002      0.0      0.00   \n",
            "acceptedcmp3         90000.0       0.499122      0.500002      0.0      0.00   \n",
            "acceptedcmp4         90000.0       0.498611      0.500001      0.0      0.00   \n",
            "acceptedcmp5         90000.0       0.500689      0.500002      0.0      0.00   \n",
            "response             90000.0       0.498656      0.500001      0.0      0.00   \n",
            "\n",
            "                          50%        75%       max  \n",
            "customerid            45000.5   67500.25   90000.0  \n",
            "age                      46.0      60.00      74.0  \n",
            "income               105186.5  152623.00  199997.0  \n",
            "kidhome                   1.0       2.00       2.0  \n",
            "teenhome                  1.0       2.00       2.0  \n",
            "recency                  49.0      74.00      99.0  \n",
            "mntwines                500.0     751.00     999.0  \n",
            "mntfruits                99.0     149.00     199.0  \n",
            "mntmeatproducts         599.0     900.00    1199.0  \n",
            "mntfishproducts         301.0     450.00     599.0  \n",
            "mntsweetproducts        200.0     300.00     399.0  \n",
            "mntgoldprods            249.0     374.00     499.0  \n",
            "numdealspurchases         4.0       7.00       9.0  \n",
            "numwebpurchases           7.0      11.00      14.0  \n",
            "numcatalogpurchases       4.0       7.00       9.0  \n",
            "numstorepurchases        10.0      14.00      19.0  \n",
            "numwebvisitsmonth         9.0      15.00      19.0  \n",
            "acceptedcmp1              1.0       1.00       1.0  \n",
            "acceptedcmp2              0.0       1.00       1.0  \n",
            "acceptedcmp3              0.0       1.00       1.0  \n",
            "acceptedcmp4              0.0       1.00       1.0  \n",
            "acceptedcmp5              1.0       1.00       1.0  \n",
            "response                  0.0       1.00       1.0  \n"
          ]
        }
      ]
    },
    {
      "cell_type": "markdown",
      "source": [
        "# **project Outcomes:**\n",
        "1. 100% missing values handled\n",
        "2. All duplicates removed\n",
        "3. Clean and consistent column names Standardized data types and formatting\n",
        "4. Outliers clipped to reduce skew\n",
        "5. Cleaned dataset ready for analysis, modeling, or dashboarding\n",
        "\n",
        "\n",
        "\n"
      ],
      "metadata": {
        "id": "QUriCwVFx2Dr"
      }
    },
    {
      "cell_type": "markdown",
      "source": [
        "#  **Conclusion**\n",
        "This project demonstrated a comprehensive data cleaning pipeline that improves dataset quality, prepares it for modeling or visualization, and increases confidence in downstream results. By removing inconsistencies, handling nulls, treating outliers, and maintaining clean formatting and types, we’ve made the dataset analysis-ready. This process also mirrors real-world data analyst work, especially in business and customer segmentation applications."
      ],
      "metadata": {
        "id": "EJfKKAMGyPfo"
      }
    }
  ]
}